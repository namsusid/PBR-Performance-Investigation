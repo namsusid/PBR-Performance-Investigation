{
 "cells": [
  {
   "cell_type": "code",
   "execution_count": 190,
   "id": "corrected-expression",
   "metadata": {},
   "outputs": [],
   "source": [
    "import numpy as np\n",
    "from scipy.integrate import odeint\n",
    "from scipy.optimize import fmin\n",
    "import matplotlib.pyplot as plt"
   ]
  },
  {
   "cell_type": "code",
   "execution_count": 300,
   "id": "meaning-celebrity",
   "metadata": {},
   "outputs": [],
   "source": [
    "R = 0.05 #m\n",
    "Deff = 1.6e-7\n",
    "Cas = 0.0121\n",
    "CAb = 3 # M\n",
    "r = np.linspace(0,R,25)\n",
    "ko = 0.0079\n",
    "kc = Deff/1e-4\n",
    "rho = 6 #kg/L\n",
    "\n",
    "PHI = (ko*R**2*Cas/(Deff))"
   ]
  },
  {
   "cell_type": "code",
   "execution_count": 301,
   "id": "about-watch",
   "metadata": {},
   "outputs": [
    {
     "name": "stdout",
     "output_type": "stream",
     "text": [
      "Optimization terminated successfully.\n",
      "         Current function value: 0.000000\n",
      "         Iterations: 28\n",
      "         Function evaluations: 56\n"
     ]
    }
   ],
   "source": [
    "def bvp(S, r):\n",
    "    # Ca = (k*CA - S[1])/k \n",
    "    dCdr = S[1]\n",
    "    dJdr = (PHI/R**3)*S[0]**2\n",
    "    dSdr = [dCdr, dJdr]\n",
    "    return dSdr\n",
    "\n",
    "\n",
    "#Shooting method for case of dCdr = 0 at r = 0\n",
    "\n",
    "def shooting2(C_guess):\n",
    "    S0 = [C_guess, 0]\n",
    "    S2 = odeint(bvp, S0, r)\n",
    "    C_numerical2 = S2[:,0]\n",
    "    k = np.size(r)-1\n",
    "    sol2 = abs(C_numerical2[k] - R)\n",
    "    return sol2\n",
    "\n",
    "#Running the optimization\n",
    "C_ini_correct = fmin(shooting2, 0, xtol=1e-8)"
   ]
  },
  {
   "cell_type": "code",
   "execution_count": 302,
   "id": "editorial-welding",
   "metadata": {},
   "outputs": [
    {
     "data": {
      "image/png": "[encoded data removed]",
      "text/plain": [
       "<Figure size 432x288 with 1 Axes>"
      ]
     },
     "metadata": {
      "needs_background": "light"
     },
     "output_type": "display_data"
    }
   ],
   "source": [
    "#Resolving the ODE with the correct initial value of G\n",
    "S_ini2 = [C_ini_correct,0,]\n",
    "S_correct2 = odeint(bvp, S_ini2, r)\n",
    "C_correct2 = S_correct2[:,0]\n",
    "\n",
    "#Plotting the result\n",
    "plt.plot(r, C_correct2, \"b--\", label = 'Numerical solution')\n",
    "plt.xlabel(\"Radius\")\n",
    "plt.ylabel(\"Scaled concentration \" r'$\\frac{C_A.r}{C_{A_surf}}$')\n",
    "plt.title(r'$\\frac{dC_A}{dr}$' \" = 0 at r = 0 and \" r'$\\phi$' \" = 0.5\" )\n",
    "plt.show()"
   ]
  },
  {
   "cell_type": "code",
   "execution_count": 264,
   "id": "portuguese-double",
   "metadata": {},
   "outputs": [
    {
     "data": {
      "text/plain": [
       "array([0.03191951, 0.03194594, 0.03202531, 0.03215788, 0.0323441 ,\n",
       "       0.03258459, 0.03288016, 0.03323181, 0.03364075, 0.0341084 ,\n",
       "       0.03463641, 0.03522665, 0.03588127, 0.03660268, 0.03739361,\n",
       "       0.03825708, 0.03919648, 0.0402156 , 0.04131863, 0.04251024,\n",
       "       0.04379562, 0.04518052, 0.04667135, 0.0482752 , 0.04999999])"
      ]
     },
     "execution_count": 264,
     "metadata": {},
     "output_type": "execute_result"
    }
   ],
   "source": [
    "C_correct2"
   ]
  },
  {
   "cell_type": "code",
   "execution_count": 295,
   "id": "sunrise-catalog",
   "metadata": {},
   "outputs": [],
   "source": [
    "CAs = np.linspace(0.0001, 0.05, 30)\n",
    "\n",
    "eta = (3*C_correct2[24]*Deff)/(ko * CAs**2 * 0.05)"
   ]
  },
  {
   "cell_type": "code",
   "execution_count": 305,
   "id": "acoustic-junior",
   "metadata": {},
   "outputs": [
    {
     "data": {
      "text/plain": [
       "array([0.0001    , 0.00182069, 0.00354138, 0.00526207, 0.00698276,\n",
       "       0.00870345, 0.01042414, 0.01214483, 0.01386552, 0.01558621,\n",
       "       0.0173069 , 0.01902759, 0.02074828, 0.02246897, 0.02418966,\n",
       "       0.02591034, 0.02763103, 0.02935172, 0.03107241, 0.0327931 ,\n",
       "       0.03451379, 0.03623448, 0.03795517, 0.03967586, 0.04139655,\n",
       "       0.04311724, 0.04483793, 0.04655862, 0.04827931, 0.05      ])"
      ]
     },
     "execution_count": 305,
     "metadata": {},
     "output_type": "execute_result"
    }
   ],
   "source": [
    "CAs"
   ]
  },
  {
   "cell_type": "code",
   "execution_count": 304,
   "id": "virgin-endorsement",
   "metadata": {},
   "outputs": [
    {
     "data": {
      "text/plain": [
       "array([6.07595159e+02, 1.83291555e+00, 4.84472816e-01, 2.19432643e-01,\n",
       "       1.24612109e-01, 8.02105694e-02, 5.59157309e-02, 4.11937755e-02,\n",
       "       3.16040074e-02, 2.50111368e-02, 2.02850419e-02, 1.67821233e-02,\n",
       "       1.41140053e-02, 1.20350569e-02, 1.03837674e-02, 9.05040302e-03,\n",
       "       7.95829466e-03, 7.05256456e-03, 6.29309548e-03, 5.65001065e-03,\n",
       "       5.10068991e-03, 4.62775301e-03, 4.21766778e-03, 3.85977120e-03,\n",
       "       3.54556925e-03, 3.26822818e-03, 3.02219982e-03, 2.80294188e-03,\n",
       "       2.60670683e-03, 2.43038064e-03])"
      ]
     },
     "execution_count": 304,
     "metadata": {},
     "output_type": "execute_result"
    }
   ],
   "source": [
    "eta"
   ]
  },
  {
   "cell_type": "code",
   "execution_count": 303,
   "id": "improved-failing",
   "metadata": {},
   "outputs": [
    {
     "data": {
      "text/plain": [
       "array([0.01234375, 0.22474138, 0.43713901, 0.64953664, 0.86193427,\n",
       "       1.0743319 , 1.28672953, 1.49912716, 1.71152478, 1.92392241,\n",
       "       2.13632004, 2.34871767, 2.5611153 , 2.77351293, 2.98591056,\n",
       "       3.19830819, 3.41070582, 3.62310345, 3.83550108, 4.04789871,\n",
       "       4.26029634, 4.47269397, 4.68509159, 4.89748922, 5.10988685,\n",
       "       5.32228448, 5.53468211, 5.74707974, 5.95947737, 6.171875  ])"
      ]
     },
     "execution_count": 303,
     "metadata": {},
     "output_type": "execute_result"
    }
   ],
   "source": [
    "thiele = (ko*R**2*CAs)/Deff\n",
    "thiele"
   ]
  },
  {
   "cell_type": "code",
   "execution_count": 293,
   "id": "greek-forwarding",
   "metadata": {},
   "outputs": [],
   "source": [
    "CAsurface = 0.015586\n",
    "eta = 0.4119 \n",
    "thiele = 1.499"
   ]
  },
  {
   "cell_type": "code",
   "execution_count": 294,
   "id": "configured-liberal",
   "metadata": {},
   "outputs": [
    {
     "data": {
      "text/plain": [
       "0.41190488179240864"
      ]
     },
     "execution_count": 294,
     "metadata": {},
     "output_type": "execute_result"
    }
   ],
   "source": [
    "Omega = (eta * kc)/(kc + eta*ko * (1 - thiele**0.5)* (R/3) * CAsurface)\n",
    "Omega"
   ]
  }
 ],
 "metadata": {
  "kernelspec": {
   "display_name": "Python 3",
   "language": "python",
   "name": "python3"
  },
  "language_info": {
   "codemirror_mode": {
    "name": "ipython",
    "version": 3
   },
   "file_extension": ".py",
   "mimetype": "text/x-python",
   "name": "python",
   "nbconvert_exporter": "python",
   "pygments_lexer": "ipython3",
   "version": "3.8.5"
  }
 },
 "nbformat": 4,
 "nbformat_minor": 5
}
